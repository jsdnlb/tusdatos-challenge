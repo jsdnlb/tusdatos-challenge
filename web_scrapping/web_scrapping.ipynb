{
  "nbformat": 4,
  "nbformat_minor": 0,
  "metadata": {
    "colab": {
      "provenance": []
    },
    "kernelspec": {
      "name": "python3",
      "display_name": "Python 3"
    },
    "language_info": {
      "name": "python"
    }
  },
  "cells": [
    {
      "cell_type": "markdown",
      "source": [
        "###Count number of processes to bring exact number of records"
      ],
      "metadata": {
        "id": "6mbsYIj804I6"
      }
    },
    {
      "cell_type": "code",
      "execution_count": null,
      "metadata": {
        "colab": {
          "base_uri": "https://localhost:8080/"
        },
        "id": "jUtsNIKszchB",
        "outputId": "e7168d26-24b1-4ff5-8a7d-6af9fe559749"
      },
      "outputs": [
        {
          "output_type": "stream",
          "name": "stdout",
          "text": [
            "157\n"
          ]
        }
      ],
      "source": [
        "import requests as r\n",
        "\n",
        "url = \"https://api.funcionjudicial.gob.ec/EXPEL-CONSULTA-CAUSAS-SERVICE/api/consulta-causas/informacion/contarCausas\"\n",
        "payload = {\n",
        "    \"actor\": {\"cedulaActor\": \"0968599020001\", \"nombreActor\": \"\"},\n",
        "    \"demandado\": {\"cedulaDemandado\": \"\", \"nombreDemandado\": \"\"},\n",
        "    \"recaptcha\": \"verdad\"\n",
        "}\n",
        "number_process = r.post(url, json=payload)\n",
        "print(number_process.text)"
      ]
    },
    {
      "cell_type": "markdown",
      "source": [
        "###Get processes with the identity document of actor or defendant."
      ],
      "metadata": {
        "id": "rayhVp3m3H0H"
      }
    },
    {
      "cell_type": "code",
      "source": [
        "import requests as r\n",
        "import json\n",
        "\n",
        "url = \"https://api.funcionjudicial.gob.ec/EXPEL-CONSULTA-CAUSAS-SERVICE/api/consulta-causas/informacion/buscarCausas?page=1&size=1\"\n",
        "payload = {\n",
        "    \"actor\": {\"cedulaActor\": \"0968599020001\", \"nombreActor\": \"\"},\n",
        "    \"demandado\": {\"cedulaDemandado\": \"\", \"nombreDemandado\": \"\"},\n",
        "    \"recaptcha\": \"verdad\",\n",
        "}\n",
        "response = r.post(url, json=payload)\n",
        "all_process = json.dumps(response.json(), indent=2)\n",
        "print(all_process)"
      ],
      "metadata": {
        "colab": {
          "base_uri": "https://localhost:8080/"
        },
        "id": "dY57jcIx_Ssa",
        "outputId": "920357cb-86f5-49f9-e5cd-61acaa45e70f"
      },
      "execution_count": null,
      "outputs": [
        {
          "output_type": "stream",
          "name": "stdout",
          "text": [
            "[\n",
            "  {\n",
            "    \"id\": 1,\n",
            "    \"idJuicio\": \"08332202400176\",\n",
            "    \"estadoActual\": \"A\",\n",
            "    \"idMateria\": 32,\n",
            "    \"idProvincia\": null,\n",
            "    \"idCanton\": null,\n",
            "    \"idJudicatura\": null,\n",
            "    \"nombreDelito\": \"NULIDAD DE SENTENCIA\",\n",
            "    \"fechaIngreso\": \"2024-03-06T21:13:25.237+00:00\",\n",
            "    \"nombre\": null,\n",
            "    \"cedula\": null,\n",
            "    \"idEstadoJuicio\": null,\n",
            "    \"nombreMateria\": null,\n",
            "    \"nombreEstadoJuicio\": null,\n",
            "    \"nombreJudicatura\": null,\n",
            "    \"nombreTipoResolucion\": null,\n",
            "    \"nombreTipoAccion\": null,\n",
            "    \"fechaProvidencia\": null,\n",
            "    \"nombreProvidencia\": null,\n",
            "    \"nombreProvincia\": null,\n",
            "    \"iedocumentoAdjunto\": \"N\"\n",
            "  }\n",
            "]\n"
          ]
        }
      ]
    },
    {
      "cell_type": "markdown",
      "source": [
        "###Get detail processes\n",
        "At this point you can distinguish between defendant and plaintiff processes."
      ],
      "metadata": {
        "id": "geyNnGYp4WcQ"
      }
    },
    {
      "cell_type": "code",
      "source": [
        "import requests as r\n",
        "\n",
        "url = \"https://api.funcionjudicial.gob.ec/EXPEL-CONSULTA-CAUSAS-CLEX-SERVICE/api/consulta-causas-clex/informacion/getIncidenteJudicatura/08332202400176\"\n",
        "headers = {\"Content-Type\": \"application/json\"}\n",
        "response = r.get(url, headers=headers)\n",
        "detail_process = json.dumps(response.json(), indent=2)\n",
        "print(detail_process)\n"
      ],
      "metadata": {
        "colab": {
          "base_uri": "https://localhost:8080/"
        },
        "id": "VsOzfFll95ZI",
        "outputId": "3a6efb44-2fe4-49b7-d105-9514a05e6d87"
      },
      "execution_count": null,
      "outputs": [
        {
          "output_type": "stream",
          "name": "stdout",
          "text": [
            "[\n",
            "  {\n",
            "    \"idJudicatura\": \"08332\",\n",
            "    \"nombreJudicatura\": \"UNIDAD JUDICIAL MULTICOMPETENTE CIVIL DE QUININD\\u00c9\",\n",
            "    \"ciudad\": \"QUININDE\",\n",
            "    \"lstIncidenteJudicatura\": [\n",
            "      {\n",
            "        \"idIncidenteJudicatura\": 27389734,\n",
            "        \"idMovimientoJuicioIncidente\": 26015981,\n",
            "        \"idJudicaturaDestino\": \"08332\",\n",
            "        \"fechaCrea\": \"2024-03-06T16:13:25.237\",\n",
            "        \"incidente\": 1,\n",
            "        \"lstLitiganteActor\": [\n",
            "          {\n",
            "            \"tipoLitigante\": \"ACTOR\",\n",
            "            \"nombresLitigante\": \"EMPRESA ELECTRICA PUBLICA ESTRATEGICA CORPORACION NACIONAL DE ELECTRICIDAD CNEL EP\",\n",
            "            \"representadoPor\": \"EMPRESA ELECTRICA PUBLICA ESTRATEGICA CORPORACION NACIONAL DE ELECTRICIDAD CNEL EP\",\n",
            "            \"idLitigante\": 35888938\n",
            "          }\n",
            "        ],\n",
            "        \"lstLitiganteDemandado\": null,\n",
            "        \"litiganteActor\": null,\n",
            "        \"litiganteDemandado\": null\n",
            "      }\n",
            "    ]\n",
            "  }\n",
            "]\n"
          ]
        }
      ]
    },
    {
      "cell_type": "markdown",
      "source": [
        "###Obtain the judicial updates according to the Judiciary Incident Data"
      ],
      "metadata": {
        "id": "0fDuJmdp5exK"
      }
    },
    {
      "cell_type": "code",
      "source": [
        "import requests as r\n",
        "\n",
        "url = \"https://api.funcionjudicial.gob.ec/EXPEL-CONSULTA-CAUSAS-SERVICE/api/consulta-causas/informacion/actuacionesJudiciales\"\n",
        "payload = {\n",
        "    \"idMovimientoJuicioIncidente\": 26015981,\n",
        "    \"idJuicio\": \"08332202400176\",\n",
        "    \"idJudicatura\": \"08332\",\n",
        "    \"idIncidenteJudicatura\": 27389734,\n",
        "    \"aplicativo\": \"web\",\n",
        "    \"nombreJudicatura\": \"UNIDAD JUDICIAL MULTICOMPETENTE CIVIL DE QUININDÉ\",\n",
        "    \"incidente\": 1\n",
        "}\n",
        "response = r.post(url, json=payload)\n",
        "judicial_update = json.dumps(response.json(), indent=2)\n",
        "print(judicial_update)"
      ],
      "metadata": {
        "colab": {
          "base_uri": "https://localhost:8080/"
        },
        "id": "KvItUGerLu2E",
        "outputId": "86f71a7f-f8e9-492f-922e-bf6608574c0a"
      },
      "execution_count": null,
      "outputs": [
        {
          "output_type": "stream",
          "name": "stdout",
          "text": [
            "[\n",
            "  {\n",
            "    \"codigo\": 211954195,\n",
            "    \"idJudicatura\": \"08332\",\n",
            "    \"idJuicio\": \"08332202400176 \",\n",
            "    \"fecha\": \"2024-03-13T20:23:39.000+00:00\",\n",
            "    \"tipo\": \"OFICIO (OFICIO) \",\n",
            "    \"actividad\": \"<p style=\\\"margin-left:0cm; margin-right:0cm; text-align:justify\\\">Dentro del Juicio de <strong>NULIDAD DE SENTENCIA </strong>que sigue <strong>EMPRESA ELECTRICA PUBLICA ESTRATEGICA CORPORACION NACIONAL DE ELECTRICIDAD CNEL EP </strong>se ha dispuesto, <strong>mediante auto de fecha, 8 de marzo del 2024, a las 08h47</strong>, lo siguiente:</p>\\n\\n<p style=\\\"margin-left:0cm; margin-right:0cm; text-align:justify\\\"><strong>PARTE PERTINENTE: </strong>&ldquo;&hellip;conforme obra de la documentaci&oacute;n adjuntada al libelo inicial, con fundamento en los Arts. 22.4 y 112 pen&uacute;ltimo inciso del C&oacute;digo Org&aacute;nico General de Procesos, me EXCUSO de conocer el presente juicio ordinario de nulidad de sentencia, excusa que la presento para ante el/la Juez/a al que, por sorteo le corresponda, de los dem&aacute;s que conforman la actual Unidad Judicial Multicompetente Civil de Quinind&eacute;, de la que en la actualidad igualmente formo parte, EXCUSA que por legal debe ser aceptada. Ejecutoriado &eacute;ste auto rem&iacute;tase a la Oficina de Coordinaci&oacute;n, y/o a la Oficina de Sorteos de &eacute;sta Unidad para los fines legales pertinentes&hellip;&rdquo;.</p>\\n\\n<p style=\\\"margin-left:0cm; margin-right:0cm; text-align:justify\\\"><em>Al amparo del art&iacute;culo 14 de la Ley de Comercio Electr&oacute;nico, Firmas Electr&oacute;nicas y Mensajes de datos, se indica que la firma electr&oacute;nica contenida en el presente documento, tiene igual validez y genera los mismos efectos jur&iacute;dicos que la firma manuscrita; en consecuencia, no ser&aacute; necesario consignar la firma manuscrita en la presente actuaci&oacute;n judicial.</em></p>\\n\",\n",
            "    \"visible\": \"S\",\n",
            "    \"origen\": \"ProvPrimera\",\n",
            "    \"idMovimientoJuicioIncidente\": 26015981,\n",
            "    \"ieTablaReferencia\": \"ProvPrimera\",\n",
            "    \"ieDocumentoAdjunto\": \"S\",\n",
            "    \"escapeOut\": \"false\",\n",
            "    \"uuid\": \"20240313-152384499837-593792259-136073074\",\n",
            "    \"alias\": \"HBA01\",\n",
            "    \"nombreArchivo\": \"08332202400176_226613993_15_23_39_P20.pdf\",\n",
            "    \"tipoIngreso\": \"O\",\n",
            "    \"idTablaReferencia\": \"26015981\"\n",
            "  },\n",
            "  {\n",
            "    \"codigo\": 211723416,\n",
            "    \"idJudicatura\": \"08332\",\n",
            "    \"idJuicio\": \"08332202400176 \",\n",
            "    \"fecha\": \"2024-03-08T20:09:14.163+00:00\",\n",
            "    \"tipo\": \"EXCUSA (RAZON DE NOTIFICACION) \",\n",
            "    \"actividad\": \"<p style=\\\"text-align: justify;\\\">En Quininde, viernes ocho de marzo del dos mil veinte y cuatro, a partir de las quince horas y nueve minutos, mediante boletas judiciales notifiqu\\u00e9 el AUTO DE INTERLOCUTORIO que antecede a: EMPRESA ELECTRICA PUBLICA ESTRATEGICA CORPORACION NACIONAL DE ELECTRICIDAD CNEL EP en el casillero electr\\u00f3nico No.0802816975 correo electr\\u00f3nico  joan.cedeno@cnel.gob.ec, jose.reina@cnel.gob.ec, sonia.cedenov@cnel.gob.ec.  del Dr./Ab. JOS\\u00c8 ALEJANDRO REINA P\\u00c8REZ; JOS\\u00c8 ALEJANDRO REINA P\\u00c8REZ en el correo electr\\u00f3nico josreinaperez@gmail.com.  Certifico:</p><br /><br /><br /><br /><br /><br /><p style=\\\"text-align:center\\\"><strong>OLMEDO ESTUPI\\u00d1AN ANTONIETA CONSUELO</strong>\\r\\n  </p>\\n\\r<p style=\\\"text-align:center\\\"><strong>SECRETARIO</strong>\\r\\n  </p>\",\n",
            "    \"visible\": \"S\",\n",
            "    \"origen\": \"ProvPrimera\",\n",
            "    \"idMovimientoJuicioIncidente\": 26015981,\n",
            "    \"ieTablaReferencia\": \"ProvPrimera\",\n",
            "    \"ieDocumentoAdjunto\": \"S\",\n",
            "    \"escapeOut\": \"false\",\n",
            "    \"uuid\": \"20240308-150930545146-593792259-136073074\",\n",
            "    \"alias\": \"HBA01\",\n",
            "    \"nombreArchivo\": \"08332202400176_226226161_15_9_13_P21.pdf\",\n",
            "    \"tipoIngreso\": \"O\",\n",
            "    \"idTablaReferencia\": \"26015981\"\n",
            "  },\n",
            "  {\n",
            "    \"codigo\": 211723416,\n",
            "    \"idJudicatura\": \"08332\",\n",
            "    \"idJuicio\": \"08332202400176 \",\n",
            "    \"fecha\": \"2024-03-08T13:47:06.000+00:00\",\n",
            "    \"tipo\": \"EXCUSA (AUTO INTERLOCUTORIO) \",\n",
            "    \"actividad\": \"<p style=\\\"margin-left:0cm; margin-right:0cm; text-align:justify\\\"><strong>VISTOS.-</strong> Dr. Patricio Roberto Riofr&iacute;o Carranza, en mi calidad de Juez titular de la Unidad Judicial Multicompetente Civil, con sede en la ciudad de Quinind&eacute;, seg&uacute;n resoluci&oacute;n del Pleno del Consejo de la Judicatura N.- 138 - 2015, de fecha 18 de mayo del 2015 en la cual se resuelve crear la Unidad Judicial Multicompetente Civil del cant&oacute;n Quinind&eacute;, y con acci&oacute;n de personal N.- 7846-DNTH-2015-SS, de fecha 4 de junio del 2015. En raz&oacute;n que, en mi calidad de uno de los tres Jueces titulares de &eacute;sta Unidad Judicial Multicompetente Civil de &eacute;sta ciudad de Quinind&eacute;, emiti&oacute; la sentencia dentro de la causa laboral signada con el N.- 08332-2020-00468, conforme obra de la documentaci&oacute;n adjuntada al libelo inicial, con fundamento en los Arts. 22.4 y 112 pen&uacute;ltimo inciso del C&oacute;digo Org&aacute;nico General de Procesos, me <strong>EXCUSO</strong> de conocer el presente juicio ordinario de nulidad de sentencia, excusa que la presento para ante el/la Juez/a al que, por sorteo le corresponda, de los dem&aacute;s que conforman la actual Unidad Judicial Multicompetente Civil de Quinind&eacute;, de la que en la actualidad igualmente formo parte, <strong>EXCUSA</strong> que por legal debe ser aceptada. Ejecutoriado &eacute;ste auto rem&iacute;tase a la Oficina de Coordinaci&oacute;n, y/o a la Oficina de Sorteos de &eacute;sta Unidad para los fines legales pertinentes. Act&uacute;e la Ab. Antonieta Olmedo Estupi&ntilde;an en calidad de secretaria del despacho. <strong>NOTIFIQUESE.-</strong></p>\\n\",\n",
            "    \"visible\": \"S\",\n",
            "    \"origen\": \"ProvPrimera\",\n",
            "    \"idMovimientoJuicioIncidente\": 26015981,\n",
            "    \"ieTablaReferencia\": \"ProvPrimera\",\n",
            "    \"ieDocumentoAdjunto\": \"S\",\n",
            "    \"escapeOut\": \"false\",\n",
            "    \"uuid\": \"20240308-084715231593-593792259-136073074\",\n",
            "    \"alias\": \"HBA01\",\n",
            "    \"nombreArchivo\": \"08332202400176_226160298_8_47_29_P20.pdf\",\n",
            "    \"tipoIngreso\": \"O\",\n",
            "    \"idTablaReferencia\": \"26015981\"\n",
            "  },\n",
            "  {\n",
            "    \"codigo\": 15653520,\n",
            "    \"idJudicatura\": \"08332\",\n",
            "    \"idJuicio\": \"08332202400176 \",\n",
            "    \"fecha\": \"2024-03-06T21:13:25.237+00:00\",\n",
            "    \"tipo\": \"ACTA DE SORTEO\",\n",
            "    \"actividad\": \"Registro realizado en la provincia de ESMERALDAS, cant\\u00f3n QUININDE, el d\\u00eda mi\\u00e9rcoles 6 de marzo de 2024, a las 16:13, del proceso correspondiente a la materia: CIVIL, tipo de acci\\u00f3n: ORDINARIO, por el tipo de asunto/delito: NULIDAD DE SENTENCIA, seguido por: EMPRESA ELECTRICA PUBLICA ESTRATEGICA CORPORACION NACIONAL DE ELECTRICIDAD CNEL EP.Por sorteo de ley la competencia se radica en el/la Unidad Judicial Multicompetente Civil de Quinind\\u00e9, con sede en el cant\\u00f3n QUININDE, conformado por el/la Juez(a): DR. RIOFRIO CARRANZA PATRICIO ROBERTO. Secretario(a): OLMEDO ESTUPI\\u00d1AN ANTONIETA CONSUELO.Proceso No: 08332-2024-00176 (1) Primera Instancia. Al que se adjunta los siguientes documentos:\\n1) PETICI\\u00d3N INICIAL (ORIGINAL)\\n\\nTotal de fojas: 97Presentado en l\\u00ednea por: JOS\\u00c8 ALEJANDRO REINA P\\u00c8REZ con n\\u00famero de c\\u00e9dula: 0802816975 y n\\u00famero de matr\\u00edcula: 08-2015-170\",\n",
            "    \"visible\": \"S\",\n",
            "    \"origen\": \"RazonSorteo\",\n",
            "    \"idMovimientoJuicioIncidente\": 26015981,\n",
            "    \"ieTablaReferencia\": \"MovimientoJuicioIncidente\",\n",
            "    \"ieDocumentoAdjunto\": \"S\",\n",
            "    \"escapeOut\": \"true\",\n",
            "    \"uuid\": \"20240306-16134762718-593792259-1045161820\",\n",
            "    \"alias\": \"HBA01\",\n",
            "    \"nombreArchivo\": \"ACTA DE SORTEO_26015981\",\n",
            "    \"tipoIngreso\": \"AS\",\n",
            "    \"idTablaReferencia\": \"26015981\"\n",
            "  },\n",
            "  {\n",
            "    \"codigo\": 147685440,\n",
            "    \"idJudicatura\": \"08332\",\n",
            "    \"idJuicio\": \"08332202400176\",\n",
            "    \"fecha\": \"2024-03-06T21:13:25.000+00:00\",\n",
            "    \"tipo\": \"CARATULA DE JUICIO\",\n",
            "    \"actividad\": \"<b>CARATULA</b>\",\n",
            "    \"visible\": \"S\",\n",
            "    \"origen\": \"IndiceElectronico\",\n",
            "    \"idMovimientoJuicioIncidente\": 26015981,\n",
            "    \"ieTablaReferencia\": \"MovimientoJuicioIncidente\",\n",
            "    \"ieDocumentoAdjunto\": \"N\",\n",
            "    \"escapeOut\": \"false\",\n",
            "    \"uuid\": \"20240306-161323224693-593792259-1045161820\",\n",
            "    \"alias\": \"HBA01\",\n",
            "    \"nombreArchivo\": \"CARATULA DE JUICIO_26015981\",\n",
            "    \"tipoIngreso\": \"CJ\",\n",
            "    \"idTablaReferencia\": \"26015981\"\n",
            "  }\n",
            "]\n"
          ]
        }
      ]
    },
    {
      "cell_type": "code",
      "source": [
        "# GET ALL PROCESS and DETAILS and actuaciones judiciales\n",
        "\n",
        "# Crear y documentar un caso de prueba dentro del cual se ejecuten 15 consultas paralelas revisando que no haya un bloqueo por parte de la página de consulta.\n",
        "\n",
        "import requests as r\n",
        "import csv\n",
        "import json\n",
        "\n",
        "BASE_URL = \"https://api.funcionjudicial.gob.ec\"\n",
        "\n",
        "url_processes= BASE_URL + \"/EXPEL-CONSULTA-CAUSAS-SERVICE/api/consulta-causas/informacion/buscarCausas?page=1&size=157\"\n",
        "url_act = BASE_URL + \"/EXPEL-CONSULTA-CAUSAS-SERVICE/api/consulta-causas/informacion/actuacionesJudiciales\"\n",
        "\n",
        "payload = {\n",
        "    \"actor\": {\"cedulaActor\": \"0968599020001\", \"nombreActor\": \"\"},\n",
        "    \"demandado\": {\"cedulaDemandado\": \"\", \"nombreDemandado\": \"\"},\n",
        "    \"recaptcha\": \"verdad\",\n",
        "}\n",
        "list_data = []\n",
        "\n",
        "response = r.post(url_processes, json=payload)\n",
        "all_processes = response.json()\n",
        "\n",
        "for process in all_processes:\n",
        "  data = {}\n",
        "  if payload[\"actor\"][\"cedulaActor\"]:\n",
        "    process[\"type_process\"] = \"demandante\"\n",
        "  else:\n",
        "    process[\"type_process\"] = \"demandado\"\n",
        "  data = process\n",
        "  data[\"id_process\"] = data.pop(\"id\")\n",
        "  url = f\"{BASE_URL}/consulta-causas-clex/informacion/getIncidenteJudicatura/{process['idJuicio']}\"\n",
        "  all_details = r.get(f\"{BASE_URL}/EXPEL-CONSULTA-CAUSAS-CLEX-SERVICE/api/consulta-causas-clex/informacion/getIncidenteJudicatura/{process['idJuicio']}\")\n",
        "  details = all_details.json()\n",
        "  data[\"details\"] = details\n",
        "\n",
        "  if details:\n",
        "    for detail in details:\n",
        "      payload_judicial_updates = {\n",
        "          \"aplicativo\": \"web\"\n",
        "      }\n",
        "      payload_judicial_updates[\"idJuicio\"] = process[\"idJuicio\"]\n",
        "      payload_judicial_updates[\"idJudicatura\"] = detail[\"idJudicatura\"]\n",
        "      payload_judicial_updates[\"nombreJudicatura\"] = detail[\"nombreJudicatura\"]\n",
        "      for incidente in detail[\"lstIncidenteJudicatura\"]:\n",
        "        payload_judicial_updates[\"idIncidenteJudicatura\"] = incidente[\"idIncidenteJudicatura\"]\n",
        "        payload_judicial_updates[\"idMovimientoJuicioIncidente\"] = incidente[\"idMovimientoJuicioIncidente\"]\n",
        "        payload_judicial_updates[\"incidente\"] = incidente[\"incidente\"]\n",
        "        all_judicial_updates = r.post(url_act, json=payload_judicial_updates)\n",
        "        a = all_judicial_updates.json()\n",
        "        data[\"judicial_updates\"] = a\n",
        "  list_data.append(data)\n",
        "\n",
        "#print(json.dumps(list_data, indent=2))\n",
        "file_path = \"/content/data.json\"\n",
        "\n",
        "# Escribir la data en el archivo JSON\n",
        "with open(file_path, 'w') as file:\n",
        "    json.dump(list_data, file)\n",
        "\n",
        "print(\"Data exportada exitosamente como JSON.\")\n"
      ],
      "metadata": {
        "colab": {
          "base_uri": "https://localhost:8080/"
        },
        "id": "SYOGsYuJcJDa",
        "outputId": "9bbe9365-cec3-4a8a-ea47-03b88a919011"
      },
      "execution_count": null,
      "outputs": [
        {
          "output_type": "stream",
          "name": "stdout",
          "text": [
            "Data exportada exitosamente como JSON.\n"
          ]
        }
      ]
    },
    {
      "cell_type": "markdown",
      "source": [
        "###Caso de prueba"
      ],
      "metadata": {
        "id": "bwEjld09_MpI"
      }
    },
    {
      "cell_type": "code",
      "source": [
        "import requests as r\n",
        "import csv\n",
        "import json\n",
        "\n",
        "BASE_URL = \"https://api.funcionjudicial.gob.ec\"\n",
        "\n",
        "url_processes= BASE_URL + \"/EXPEL-CONSULTA-CAUSAS-SERVICE/api/consulta-causas/informacion/buscarCausas?page=1&size=157\"\n",
        "url_act = BASE_URL + \"/EXPEL-CONSULTA-CAUSAS-SERVICE/api/consulta-causas/informacion/actuacionesJudiciales\"\n",
        "\n",
        "payload = {\n",
        "    \"actor\": {\"cedulaActor\": \"0968599020001\", \"nombreActor\": \"\"},\n",
        "    \"demandado\": {\"cedulaDemandado\": \"\", \"nombreDemandado\": \"\"},\n",
        "    \"recaptcha\": \"verdad\",\n",
        "}\n",
        "list_data = []\n",
        "\n",
        "response = r.post(url_processes, json=payload)\n",
        "all_processes = response.json()\n",
        "\n",
        "for process in all_processes:\n",
        "  data = {}\n",
        "  if payload[\"actor\"][\"cedulaActor\"]:\n",
        "    process[\"type_process\"] = \"demandante\"\n",
        "  else:\n",
        "    process[\"type_process\"] = \"demandado\"\n",
        "  data = process\n",
        "  data[\"id_process\"] = data.pop(\"id\")\n",
        "  url = f\"{BASE_URL}/consulta-causas-clex/informacion/getIncidenteJudicatura/{process['idJuicio']}\"\n",
        "  all_details = r.get(f\"{BASE_URL}/EXPEL-CONSULTA-CAUSAS-CLEX-SERVICE/api/consulta-causas-clex/informacion/getIncidenteJudicatura/{process['idJuicio']}\")\n",
        "  details = all_details.json()\n",
        "  data[\"details\"] = details\n",
        "\n",
        "  if details:\n",
        "    for detail in details:\n",
        "      payload_judicial_updates = {\n",
        "          \"aplicativo\": \"web\"\n",
        "      }\n",
        "      payload_judicial_updates[\"idJuicio\"] = process[\"idJuicio\"]\n",
        "      payload_judicial_updates[\"idJudicatura\"] = detail[\"idJudicatura\"]\n",
        "      payload_judicial_updates[\"nombreJudicatura\"] = detail[\"nombreJudicatura\"]\n",
        "      for incidente in detail[\"lstIncidenteJudicatura\"]:\n",
        "        payload_judicial_updates[\"idIncidenteJudicatura\"] = incidente[\"idIncidenteJudicatura\"]\n",
        "        payload_judicial_updates[\"idMovimientoJuicioIncidente\"] = incidente[\"idMovimientoJuicioIncidente\"]\n",
        "        payload_judicial_updates[\"incidente\"] = incidente[\"incidente\"]\n",
        "        all_judicial_updates = r.post(url_act, json=payload_judicial_updates)\n",
        "        a = all_judicial_updates.json()\n",
        "        data[\"judicial_updates\"] = a\n",
        "  list_data.append(data)\n",
        "\n",
        "#print(json.dumps(list_data, indent=2))\n",
        "file_path = \"/content/data.json\"\n",
        "\n",
        "# Escribir la data en el archivo JSON\n",
        "with open(file_path, 'w') as file:\n",
        "    json.dump(list_data, file)\n",
        "\n",
        "print(\"Data exportada exitosamente como JSON.\")"
      ],
      "metadata": {
        "id": "hr7Zu6IR_LCK"
      },
      "execution_count": null,
      "outputs": []
    }
  ]
}